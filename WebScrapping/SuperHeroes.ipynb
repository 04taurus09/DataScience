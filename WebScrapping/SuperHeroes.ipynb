{
 "cells": [
  {
   "cell_type": "markdown",
   "metadata": {},
   "source": [
    "# &nbsp;&nbsp;&nbsp;&nbsp;&nbsp;&nbsp;&nbsp;&nbsp;&nbsp;&nbsp;&nbsp;&nbsp;&nbsp;&nbsp;&nbsp;&nbsp;&nbsp;&nbsp;&nbsp;&nbsp;&nbsp;&nbsp;&nbsp;&nbsp;&nbsp;&nbsp;&nbsp;&nbsp;&nbsp;&nbsp;&nbsp;Marvel Character Analysis"
   ]
  },
  {
   "cell_type": "markdown",
   "metadata": {},
   "source": [
    "### The project is part of Data Science hackathon which was conducted by Tata Consultancy Services. The complete challenge was divided in three segments: <br><br> 1) Web Scrapping - Scrap the data of marvel character from [here](http://marvel-hulk.surge.sh) <br> 2) Data Cleaning - Clean the scrapped data <br> 3) Data Analysis - Answer few question based on the dataset"
   ]
  },
  {
   "cell_type": "code",
   "execution_count": 1,
   "metadata": {},
   "outputs": [],
   "source": [
    "# importing necessary libraries\n",
    "import requests   #to get html from web page\n",
    "from bs4 import BeautifulSoup   #to parse the html\n",
    "import pandas as pd   #to work with dataframe\n",
    "import matplotlib.pyplot as plt\n"
   ]
  },
  {
   "cell_type": "code",
   "execution_count": 2,
   "metadata": {},
   "outputs": [],
   "source": [
    "# modify the ast_note_interactivity kernel option so we can see the value of multiple statements at once.\n",
    "from IPython.core.interactiveshell import InteractiveShell\n",
    "InteractiveShell.ast_node_interactivity = \"all\""
   ]
  },
  {
   "cell_type": "markdown",
   "metadata": {},
   "source": [
    "## &nbsp;&nbsp;&nbsp;&nbsp;&nbsp;&nbsp;&nbsp;&nbsp;&nbsp;&nbsp;&nbsp;&nbsp;&nbsp;&nbsp;&nbsp;&nbsp;&nbsp;&nbsp;&nbsp;&nbsp;&nbsp;&nbsp;&nbsp;&nbsp;&nbsp;&nbsp;&nbsp;&nbsp;&nbsp;&nbsp;&nbsp;&nbsp;&nbsp;&nbsp;&nbsp;&nbsp;&nbsp;&nbsp;&nbsp;&nbsp;&nbsp;&nbsp;&nbsp;&nbsp;&nbsp;Web Scrapping"
   ]
  },
  {
   "cell_type": "code",
   "execution_count": 3,
   "metadata": {},
   "outputs": [],
   "source": [
    "# reading html of the page for python using 'request' library\n",
    "r = requests.get('http://marvel-hulk.surge.sh')\n",
    "\n",
    "# parsing the html using 'BeautifulSoup' library and 'html' parser\n",
    "soup = BeautifulSoup(r.text, 'html.parser')"
   ]
  },
  {
   "cell_type": "code",
   "execution_count": 4,
   "metadata": {},
   "outputs": [
    {
     "data": {
      "text/plain": [
       "[<div class=\"col-lg-8 mx-auto\">\n",
       " <h2>alicia masters (heroes reborn) (earth-616)</h2>\n",
       " <br/>\n",
       " <h4>Identity : <a href=\"http://127.0.0.1:5000/#\">None</a></h4>\n",
       " <h4>Align : <a href=\"http://127.0.0.1:5000/#\">good characters</a></h4>\n",
       " <h4>Eye : <a href=\"http://127.0.0.1:5000/#\">None</a></h4>\n",
       " <h4>Hair : <a href=\"http://127.0.0.1:5000/#\">red hair</a></h4>\n",
       " <h4>Sex : <a href=\"http://127.0.0.1:5000/#\">female characters</a></h4>\n",
       " <h4>Alive : <a href=\"http://127.0.0.1:5000/#\">living characters</a></h4>\n",
       " <h4>Appearances : <a href=\"http://127.0.0.1:5000/#\">5.0</a></h4>\n",
       " <h4>First Appearance : <a href=\"http://127.0.0.1:5000/#\">jan-97</a></h4>\n",
       " <h4>Year : <a href=\"http://127.0.0.1:5000/#\">1997.0</a></h4>\n",
       " </div>, <div class=\"col-lg-8 mx-auto\">\n",
       " <p class=\"h2\">amy reilly (earth-616)</p>\n",
       " <br/>\n",
       " <p class=\"h4\">Identity : <a href=\"http://127.0.0.1:5000/#\">no dual identity</a></p>\n",
       " <p class=\"h4\">Align : <a href=\"http://127.0.0.1:5000/#\">good characters</a></p>\n",
       " <p class=\"h4\">Eye : <a href=\"http://127.0.0.1:5000/#\">None</a></p>\n",
       " <p class=\"h4\">Hair : <a href=\"http://127.0.0.1:5000/#\">black hair</a></p>\n",
       " <p class=\"h4\">Sex : <a href=\"http://127.0.0.1:5000/#\">female characters</a></p>\n",
       " <p class=\"h4\">Alive : <a href=\"http://127.0.0.1:5000/#\">living characters</a></p>\n",
       " <p class=\"h4\">Appearances : <a href=\"http://127.0.0.1:5000/#\">7.0</a></p>\n",
       " <p class=\"h4\">First Appearance : <a href=\"http://127.0.0.1:5000/#\">sep-09</a></p>\n",
       " <p class=\"h4\">Year : <a href=\"http://127.0.0.1:5000/#\">2009.0</a></p>\n",
       " </div>, <div class=\"col-lg-8 mx-auto\">\n",
       " <p class=\"h2\">porky (earth-616)</p>\n",
       " <br/>\n",
       " <p class=\"h4\">Identity : <a href=\"http://127.0.0.1:5000/#\">None</a></p>\n",
       " <p class=\"h4\">Align : <a href=\"http://127.0.0.1:5000/#\">None</a></p>\n",
       " <p class=\"h4\">Eye : <a href=\"http://127.0.0.1:5000/#\">None</a></p>\n",
       " <p class=\"h4\">Hair : <a href=\"http://127.0.0.1:5000/#\">brown hair</a></p>\n",
       " <p class=\"h4\">Sex : <a href=\"http://127.0.0.1:5000/#\">male characters</a></p>\n",
       " <p class=\"h4\">Alive : <a href=\"http://127.0.0.1:5000/#\">living characters</a></p>\n",
       " <p class=\"h4\">Appearances : <a href=\"http://127.0.0.1:5000/#\">2.0</a></p>\n",
       " <p class=\"h4\">First Appearance : <a href=\"http://127.0.0.1:5000/#\">apr-64</a></p>\n",
       " <p class=\"h4\">Year : <a href=\"http://127.0.0.1:5000/#\">1964.0</a></p>\n",
       " </div>, <div class=\"col-lg-8 mx-auto\">\n",
       " <p class=\"h2\">pyron (earth-616)</p>\n",
       " <br/>\n",
       " <p class=\"h4\">Identity : <a href=\"http://127.0.0.1:5000/#\">secret identity</a></p>\n",
       " <p class=\"h4\">Align : <a href=\"http://127.0.0.1:5000/#\">bad characters</a></p>\n",
       " <p class=\"h4\">Eye : <a href=\"http://127.0.0.1:5000/#\">None</a></p>\n",
       " <p class=\"h4\">Hair : <a href=\"http://127.0.0.1:5000/#\">None</a></p>\n",
       " <p class=\"h4\">Sex : <a href=\"http://127.0.0.1:5000/#\">male characters</a></p>\n",
       " <p class=\"h4\">Alive : <a href=\"http://127.0.0.1:5000/#\">living characters</a></p>\n",
       " <p class=\"h4\">Appearances : <a href=\"http://127.0.0.1:5000/#\">1.0</a></p>\n",
       " <p class=\"h4\">First Appearance : <a href=\"http://127.0.0.1:5000/#\">apr-81</a></p>\n",
       " <p class=\"h4\">Year : <a href=\"http://127.0.0.1:5000/#\">1981.0</a></p>\n",
       " </div>, <div class=\"col-lg-8 mx-auto\">\n",
       " <p class=\"h2\">gardner monroe (earth-616)</p>\n",
       " <br/>\n",
       " <p class=\"h4\">Identity : <a href=\"http://127.0.0.1:5000/#\">secret identity</a></p>\n",
       " <p class=\"h4\">Align : <a href=\"http://127.0.0.1:5000/#\">bad characters</a></p>\n",
       " <p class=\"h4\">Eye : <a href=\"http://127.0.0.1:5000/#\">grey eyes</a></p>\n",
       " <p class=\"h4\">Hair : <a href=\"http://127.0.0.1:5000/#\">black hair</a></p>\n",
       " <p class=\"h4\">Sex : <a href=\"http://127.0.0.1:5000/#\">male characters</a></p>\n",
       " <p class=\"h4\">Alive : <a href=\"http://127.0.0.1:5000/#\">living characters</a></p>\n",
       " <p class=\"h4\">Appearances : <a href=\"http://127.0.0.1:5000/#\">18.0</a></p>\n",
       " <p class=\"h4\">First Appearance : <a href=\"http://127.0.0.1:5000/#\">aug-83</a></p>\n",
       " <p class=\"h4\">Year : <a href=\"http://127.0.0.1:5000/#\">1983.0</a></p>\n",
       " </div>]"
      ]
     },
     "execution_count": 4,
     "metadata": {},
     "output_type": "execute_result"
    }
   ],
   "source": [
    "# the 'find_all' function will find all the 'div' tag with having 'class' attribute\n",
    "# of the form \"<div class=\"col-lg-8 mx-auto\">\"\n",
    "results = soup.find_all('div', {'class':'col-lg-8 mx-auto'})\n",
    "results[0:5]"
   ]
  },
  {
   "cell_type": "code",
   "execution_count": 5,
   "metadata": {
    "scrolled": true
   },
   "outputs": [
    {
     "data": {
      "text/plain": [
       "[['alicia masters (heroes reborn) (earth-616)',\n",
       "  'None',\n",
       "  'good characters',\n",
       "  'None',\n",
       "  'red hair',\n",
       "  'female characters',\n",
       "  'living characters',\n",
       "  '5.0',\n",
       "  'jan-97',\n",
       "  '1997.0'],\n",
       " ['amy reilly (earth-616)',\n",
       "  'no dual identity',\n",
       "  'good characters',\n",
       "  'None',\n",
       "  'black hair',\n",
       "  'female characters',\n",
       "  'living characters',\n",
       "  '7.0',\n",
       "  'sep-09',\n",
       "  '2009.0'],\n",
       " ['porky (earth-616)',\n",
       "  'None',\n",
       "  'None',\n",
       "  'None',\n",
       "  'brown hair',\n",
       "  'male characters',\n",
       "  'living characters',\n",
       "  '2.0',\n",
       "  'apr-64',\n",
       "  '1964.0'],\n",
       " ['pyron (earth-616)',\n",
       "  'secret identity',\n",
       "  'bad characters',\n",
       "  'None',\n",
       "  'None',\n",
       "  'male characters',\n",
       "  'living characters',\n",
       "  '1.0',\n",
       "  'apr-81',\n",
       "  '1981.0'],\n",
       " ['gardner monroe (earth-616)',\n",
       "  'secret identity',\n",
       "  'bad characters',\n",
       "  'grey eyes',\n",
       "  'black hair',\n",
       "  'male characters',\n",
       "  'living characters',\n",
       "  '18.0',\n",
       "  'aug-83',\n",
       "  '1983.0']]"
      ]
     },
     "execution_count": 5,
     "metadata": {},
     "output_type": "execute_result"
    }
   ],
   "source": [
    "records = []\n",
    "for result in results:\n",
    "    temp = result.text.split('\\n')\n",
    "    temp = list(filter(None,temp)) #removes any empty string from list\n",
    "    new_list = []\n",
    "    for i in temp:\n",
    "        if ':' in i:\n",
    "            new_list.append(i.split(':')[1].strip())\n",
    "        else:\n",
    "            new_list.append(i)\n",
    "    records.append(new_list)\n",
    "    \n",
    "records[0:5]"
   ]
  },
  {
   "cell_type": "code",
   "execution_count": 6,
   "metadata": {
    "scrolled": true
   },
   "outputs": [
    {
     "data": {
      "text/html": [
       "<div>\n",
       "<style scoped>\n",
       "    .dataframe tbody tr th:only-of-type {\n",
       "        vertical-align: middle;\n",
       "    }\n",
       "\n",
       "    .dataframe tbody tr th {\n",
       "        vertical-align: top;\n",
       "    }\n",
       "\n",
       "    .dataframe thead th {\n",
       "        text-align: right;\n",
       "    }\n",
       "</style>\n",
       "<table border=\"1\" class=\"dataframe\">\n",
       "  <thead>\n",
       "    <tr style=\"text-align: right;\">\n",
       "      <th></th>\n",
       "      <th>name</th>\n",
       "      <th>id</th>\n",
       "      <th>align</th>\n",
       "      <th>eye</th>\n",
       "      <th>hair</th>\n",
       "      <th>sex</th>\n",
       "      <th>alive</th>\n",
       "      <th>appearances</th>\n",
       "      <th>first appearance</th>\n",
       "      <th>year</th>\n",
       "    </tr>\n",
       "  </thead>\n",
       "  <tbody>\n",
       "    <tr>\n",
       "      <td>0</td>\n",
       "      <td>alicia masters (heroes reborn) (earth-616)</td>\n",
       "      <td>None</td>\n",
       "      <td>good characters</td>\n",
       "      <td>None</td>\n",
       "      <td>red hair</td>\n",
       "      <td>female characters</td>\n",
       "      <td>living characters</td>\n",
       "      <td>5.0</td>\n",
       "      <td>jan-97</td>\n",
       "      <td>1997.0</td>\n",
       "    </tr>\n",
       "    <tr>\n",
       "      <td>1</td>\n",
       "      <td>amy reilly (earth-616)</td>\n",
       "      <td>no dual identity</td>\n",
       "      <td>good characters</td>\n",
       "      <td>None</td>\n",
       "      <td>black hair</td>\n",
       "      <td>female characters</td>\n",
       "      <td>living characters</td>\n",
       "      <td>7.0</td>\n",
       "      <td>sep-09</td>\n",
       "      <td>2009.0</td>\n",
       "    </tr>\n",
       "    <tr>\n",
       "      <td>2</td>\n",
       "      <td>porky (earth-616)</td>\n",
       "      <td>None</td>\n",
       "      <td>None</td>\n",
       "      <td>None</td>\n",
       "      <td>brown hair</td>\n",
       "      <td>male characters</td>\n",
       "      <td>living characters</td>\n",
       "      <td>2.0</td>\n",
       "      <td>apr-64</td>\n",
       "      <td>1964.0</td>\n",
       "    </tr>\n",
       "    <tr>\n",
       "      <td>3</td>\n",
       "      <td>pyron (earth-616)</td>\n",
       "      <td>secret identity</td>\n",
       "      <td>bad characters</td>\n",
       "      <td>None</td>\n",
       "      <td>None</td>\n",
       "      <td>male characters</td>\n",
       "      <td>living characters</td>\n",
       "      <td>1.0</td>\n",
       "      <td>apr-81</td>\n",
       "      <td>1981.0</td>\n",
       "    </tr>\n",
       "    <tr>\n",
       "      <td>4</td>\n",
       "      <td>gardner monroe (earth-616)</td>\n",
       "      <td>secret identity</td>\n",
       "      <td>bad characters</td>\n",
       "      <td>grey eyes</td>\n",
       "      <td>black hair</td>\n",
       "      <td>male characters</td>\n",
       "      <td>living characters</td>\n",
       "      <td>18.0</td>\n",
       "      <td>aug-83</td>\n",
       "      <td>1983.0</td>\n",
       "    </tr>\n",
       "  </tbody>\n",
       "</table>\n",
       "</div>"
      ],
      "text/plain": [
       "                                         name                id  \\\n",
       "0  alicia masters (heroes reborn) (earth-616)              None   \n",
       "1                      amy reilly (earth-616)  no dual identity   \n",
       "2                           porky (earth-616)              None   \n",
       "3                           pyron (earth-616)   secret identity   \n",
       "4                  gardner monroe (earth-616)   secret identity   \n",
       "\n",
       "             align        eye        hair                sex  \\\n",
       "0  good characters       None    red hair  female characters   \n",
       "1  good characters       None  black hair  female characters   \n",
       "2             None       None  brown hair    male characters   \n",
       "3   bad characters       None        None    male characters   \n",
       "4   bad characters  grey eyes  black hair    male characters   \n",
       "\n",
       "               alive appearances first appearance    year  \n",
       "0  living characters         5.0           jan-97  1997.0  \n",
       "1  living characters         7.0           sep-09  2009.0  \n",
       "2  living characters         2.0           apr-64  1964.0  \n",
       "3  living characters         1.0           apr-81  1981.0  \n",
       "4  living characters        18.0           aug-83  1983.0  "
      ]
     },
     "execution_count": 6,
     "metadata": {},
     "output_type": "execute_result"
    },
    {
     "data": {
      "text/html": [
       "<div>\n",
       "<style scoped>\n",
       "    .dataframe tbody tr th:only-of-type {\n",
       "        vertical-align: middle;\n",
       "    }\n",
       "\n",
       "    .dataframe tbody tr th {\n",
       "        vertical-align: top;\n",
       "    }\n",
       "\n",
       "    .dataframe thead th {\n",
       "        text-align: right;\n",
       "    }\n",
       "</style>\n",
       "<table border=\"1\" class=\"dataframe\">\n",
       "  <thead>\n",
       "    <tr style=\"text-align: right;\">\n",
       "      <th></th>\n",
       "      <th>name</th>\n",
       "      <th>id</th>\n",
       "      <th>align</th>\n",
       "      <th>eye</th>\n",
       "      <th>hair</th>\n",
       "      <th>sex</th>\n",
       "      <th>alive</th>\n",
       "      <th>appearances</th>\n",
       "      <th>first appearance</th>\n",
       "      <th>year</th>\n",
       "    </tr>\n",
       "  </thead>\n",
       "  <tbody>\n",
       "    <tr>\n",
       "      <td>1995</td>\n",
       "      <td>astrella carpenter (earth-616)</td>\n",
       "      <td>None</td>\n",
       "      <td>None</td>\n",
       "      <td>None</td>\n",
       "      <td>blond hair</td>\n",
       "      <td>female characters</td>\n",
       "      <td>living characters</td>\n",
       "      <td>8.0</td>\n",
       "      <td>aug-72</td>\n",
       "      <td>1972.0</td>\n",
       "    </tr>\n",
       "    <tr>\n",
       "      <td>1996</td>\n",
       "      <td>clayton wojciehowicz (earth-616)</td>\n",
       "      <td>public identity</td>\n",
       "      <td>bad characters</td>\n",
       "      <td>black eyes</td>\n",
       "      <td>bald</td>\n",
       "      <td>male characters</td>\n",
       "      <td>deceased characters</td>\n",
       "      <td>3.0</td>\n",
       "      <td>may-08</td>\n",
       "      <td>2008.0</td>\n",
       "    </tr>\n",
       "    <tr>\n",
       "      <td>1997</td>\n",
       "      <td>benny elton (earth-616)</td>\n",
       "      <td>no dual identity</td>\n",
       "      <td>neutral characters</td>\n",
       "      <td>None</td>\n",
       "      <td>brown hair</td>\n",
       "      <td>male characters</td>\n",
       "      <td>living characters</td>\n",
       "      <td>1.0</td>\n",
       "      <td>may-47</td>\n",
       "      <td>1947.0</td>\n",
       "    </tr>\n",
       "    <tr>\n",
       "      <td>1998</td>\n",
       "      <td>basilisk (demon) (earth-616)</td>\n",
       "      <td>None</td>\n",
       "      <td>bad characters</td>\n",
       "      <td>red eyes</td>\n",
       "      <td>None</td>\n",
       "      <td>male characters</td>\n",
       "      <td>living characters</td>\n",
       "      <td>4.0</td>\n",
       "      <td>jun-76</td>\n",
       "      <td>1976.0</td>\n",
       "    </tr>\n",
       "    <tr>\n",
       "      <td>1999</td>\n",
       "      <td>omega white (earth-616)</td>\n",
       "      <td>secret identity</td>\n",
       "      <td>bad characters</td>\n",
       "      <td>white eyes</td>\n",
       "      <td>no hair</td>\n",
       "      <td>male characters</td>\n",
       "      <td>living characters</td>\n",
       "      <td>6.0</td>\n",
       "      <td>jul-12</td>\n",
       "      <td>2012.0</td>\n",
       "    </tr>\n",
       "  </tbody>\n",
       "</table>\n",
       "</div>"
      ],
      "text/plain": [
       "                                  name                id               align  \\\n",
       "1995    astrella carpenter (earth-616)              None                None   \n",
       "1996  clayton wojciehowicz (earth-616)   public identity      bad characters   \n",
       "1997           benny elton (earth-616)  no dual identity  neutral characters   \n",
       "1998      basilisk (demon) (earth-616)              None      bad characters   \n",
       "1999           omega white (earth-616)   secret identity      bad characters   \n",
       "\n",
       "             eye        hair                sex                alive  \\\n",
       "1995        None  blond hair  female characters    living characters   \n",
       "1996  black eyes        bald    male characters  deceased characters   \n",
       "1997        None  brown hair    male characters    living characters   \n",
       "1998    red eyes        None    male characters    living characters   \n",
       "1999  white eyes     no hair    male characters    living characters   \n",
       "\n",
       "     appearances first appearance    year  \n",
       "1995         8.0           aug-72  1972.0  \n",
       "1996         3.0           may-08  2008.0  \n",
       "1997         1.0           may-47  1947.0  \n",
       "1998         4.0           jun-76  1976.0  \n",
       "1999         6.0           jul-12  2012.0  "
      ]
     },
     "execution_count": 6,
     "metadata": {},
     "output_type": "execute_result"
    }
   ],
   "source": [
    "# declaring column name to be used in dataframe\n",
    "column_name = ['name','id','align','eye','hair','sex','alive','appearances','first appearance','year']\n",
    "\n",
    "# below two lines will create a dataframe 'df' and store in csv file 'Mfdm_superhero.csv'\n",
    "df = pd.DataFrame(records, columns=column_name)\n",
    "df.to_csv('/Users/alok/Python/DataScience/Data_Files/Mfdm_superhero.csv',index=False, encoding='utf-8')\n",
    "\n",
    "# printing first and last five records of dataframe\n",
    "df.head()\n",
    "df.tail()"
   ]
  },
  {
   "cell_type": "markdown",
   "metadata": {},
   "source": [
    "## &nbsp;&nbsp;&nbsp;&nbsp;&nbsp;&nbsp;&nbsp;&nbsp;&nbsp;&nbsp;&nbsp;&nbsp;&nbsp;&nbsp;&nbsp;&nbsp;&nbsp;&nbsp;&nbsp;&nbsp;&nbsp;&nbsp;&nbsp;&nbsp;&nbsp;&nbsp;&nbsp;&nbsp;&nbsp;&nbsp;&nbsp;&nbsp;&nbsp;&nbsp;&nbsp;&nbsp;&nbsp;&nbsp;&nbsp;&nbsp;&nbsp;&nbsp;&nbsp;&nbsp;&nbsp;Data Cleaning"
   ]
  },
  {
   "cell_type": "code",
   "execution_count": 7,
   "metadata": {},
   "outputs": [],
   "source": [
    "# taking month out and capitalizing it from 'first appearance' column\n",
    "df['first appearance'] = df['first appearance'].apply(lambda x : x.split('-')[0]).str.capitalize()+' 01, '\n",
    "\n",
    "# taking only the year value from 'year' column\n",
    "df['year'] = df['year'].apply(lambda x : x.split('.')[0])\n",
    "\n",
    "# creating new column 'timeline' and filling all 'None' value in df with 'not-available'\n",
    "df['timeline'] = df['first appearance'] + df['year']\n",
    "df['timeline'] = pd.to_datetime(df['timeline'],errors='coerce')\n",
    "df = df.replace({'None':'not-available'})\n",
    "df = df.drop(['first appearance','year'],axis=1)\n",
    "df = df.fillna('not-available')\n",
    "\n",
    "# exporting df to a csv file\n",
    "df.to_csv('/Users/alok/Python/DataScience/Data_Files/Mfdm_superhero_cleaned.csv',index=False, encoding='utf-8')"
   ]
  },
  {
   "cell_type": "code",
   "execution_count": 8,
   "metadata": {},
   "outputs": [],
   "source": [
    "cleaned_df = pd.read_csv('/Users/alok/Python/DataScience/Data_Files/Mfdm_superhero_cleaned.csv')"
   ]
  },
  {
   "cell_type": "code",
   "execution_count": 9,
   "metadata": {},
   "outputs": [
    {
     "name": "stderr",
     "output_type": "stream",
     "text": [
      "/Users/alok/anaconda3/lib/python3.7/site-packages/ipykernel_launcher.py:3: FutureWarning: The signature of `Series.to_csv` was aligned to that of `DataFrame.to_csv`, and argument 'header' will change its default value from False to True: please pass an explicit value to suppress this warning.\n",
      "  This is separate from the ipykernel package so we can avoid doing imports until\n"
     ]
    }
   ],
   "source": [
    "# creating a csv which contains name of all characters who appeared between 1975 and 2015\n",
    "name = cleaned_df[((cleaned_df['timeline']>'1975-01-01') & (cleaned_df['timeline']<'2015-08-01'))]['name'].sort_values()\n",
    "name.to_csv('/Users/alok/Python/DataScience/Data_Files/Mfdm_superhero_name.csv',index=False, encoding='utf-8')"
   ]
  },
  {
   "cell_type": "code",
   "execution_count": 10,
   "metadata": {},
   "outputs": [
    {
     "data": {
      "text/html": [
       "<div>\n",
       "<style scoped>\n",
       "    .dataframe tbody tr th:only-of-type {\n",
       "        vertical-align: middle;\n",
       "    }\n",
       "\n",
       "    .dataframe tbody tr th {\n",
       "        vertical-align: top;\n",
       "    }\n",
       "\n",
       "    .dataframe thead th {\n",
       "        text-align: right;\n",
       "    }\n",
       "</style>\n",
       "<table border=\"1\" class=\"dataframe\">\n",
       "  <thead>\n",
       "    <tr style=\"text-align: right;\">\n",
       "      <th></th>\n",
       "      <th>name</th>\n",
       "      <th>id</th>\n",
       "      <th>align</th>\n",
       "      <th>eye</th>\n",
       "      <th>hair</th>\n",
       "      <th>sex</th>\n",
       "      <th>alive</th>\n",
       "      <th>appearances</th>\n",
       "      <th>timeline</th>\n",
       "    </tr>\n",
       "  </thead>\n",
       "  <tbody>\n",
       "    <tr>\n",
       "      <td>0</td>\n",
       "      <td>alicia masters (heroes reborn) (earth-616)</td>\n",
       "      <td>not-available</td>\n",
       "      <td>good characters</td>\n",
       "      <td>not-available</td>\n",
       "      <td>red hair</td>\n",
       "      <td>female characters</td>\n",
       "      <td>living characters</td>\n",
       "      <td>5.0</td>\n",
       "      <td>1997-01-01 00:00:00</td>\n",
       "    </tr>\n",
       "    <tr>\n",
       "      <td>1</td>\n",
       "      <td>amy reilly (earth-616)</td>\n",
       "      <td>no dual identity</td>\n",
       "      <td>good characters</td>\n",
       "      <td>not-available</td>\n",
       "      <td>black hair</td>\n",
       "      <td>female characters</td>\n",
       "      <td>living characters</td>\n",
       "      <td>7.0</td>\n",
       "      <td>2009-09-01 00:00:00</td>\n",
       "    </tr>\n",
       "    <tr>\n",
       "      <td>2</td>\n",
       "      <td>porky (earth-616)</td>\n",
       "      <td>not-available</td>\n",
       "      <td>not-available</td>\n",
       "      <td>not-available</td>\n",
       "      <td>brown hair</td>\n",
       "      <td>male characters</td>\n",
       "      <td>living characters</td>\n",
       "      <td>2.0</td>\n",
       "      <td>1964-04-01 00:00:00</td>\n",
       "    </tr>\n",
       "    <tr>\n",
       "      <td>3</td>\n",
       "      <td>pyron (earth-616)</td>\n",
       "      <td>secret identity</td>\n",
       "      <td>bad characters</td>\n",
       "      <td>not-available</td>\n",
       "      <td>not-available</td>\n",
       "      <td>male characters</td>\n",
       "      <td>living characters</td>\n",
       "      <td>1.0</td>\n",
       "      <td>1981-04-01 00:00:00</td>\n",
       "    </tr>\n",
       "    <tr>\n",
       "      <td>4</td>\n",
       "      <td>gardner monroe (earth-616)</td>\n",
       "      <td>secret identity</td>\n",
       "      <td>bad characters</td>\n",
       "      <td>grey eyes</td>\n",
       "      <td>black hair</td>\n",
       "      <td>male characters</td>\n",
       "      <td>living characters</td>\n",
       "      <td>18.0</td>\n",
       "      <td>1983-08-01 00:00:00</td>\n",
       "    </tr>\n",
       "  </tbody>\n",
       "</table>\n",
       "</div>"
      ],
      "text/plain": [
       "                                         name                id  \\\n",
       "0  alicia masters (heroes reborn) (earth-616)     not-available   \n",
       "1                      amy reilly (earth-616)  no dual identity   \n",
       "2                           porky (earth-616)     not-available   \n",
       "3                           pyron (earth-616)   secret identity   \n",
       "4                  gardner monroe (earth-616)   secret identity   \n",
       "\n",
       "             align            eye           hair                sex  \\\n",
       "0  good characters  not-available       red hair  female characters   \n",
       "1  good characters  not-available     black hair  female characters   \n",
       "2    not-available  not-available     brown hair    male characters   \n",
       "3   bad characters  not-available  not-available    male characters   \n",
       "4   bad characters      grey eyes     black hair    male characters   \n",
       "\n",
       "               alive  appearances             timeline  \n",
       "0  living characters          5.0  1997-01-01 00:00:00  \n",
       "1  living characters          7.0  2009-09-01 00:00:00  \n",
       "2  living characters          2.0  1964-04-01 00:00:00  \n",
       "3  living characters          1.0  1981-04-01 00:00:00  \n",
       "4  living characters         18.0  1983-08-01 00:00:00  "
      ]
     },
     "execution_count": 10,
     "metadata": {},
     "output_type": "execute_result"
    },
    {
     "data": {
      "text/html": [
       "<div>\n",
       "<style scoped>\n",
       "    .dataframe tbody tr th:only-of-type {\n",
       "        vertical-align: middle;\n",
       "    }\n",
       "\n",
       "    .dataframe tbody tr th {\n",
       "        vertical-align: top;\n",
       "    }\n",
       "\n",
       "    .dataframe thead th {\n",
       "        text-align: right;\n",
       "    }\n",
       "</style>\n",
       "<table border=\"1\" class=\"dataframe\">\n",
       "  <thead>\n",
       "    <tr style=\"text-align: right;\">\n",
       "      <th></th>\n",
       "      <th>name</th>\n",
       "      <th>id</th>\n",
       "      <th>align</th>\n",
       "      <th>eye</th>\n",
       "      <th>hair</th>\n",
       "      <th>sex</th>\n",
       "      <th>alive</th>\n",
       "      <th>appearances</th>\n",
       "      <th>timeline</th>\n",
       "    </tr>\n",
       "  </thead>\n",
       "  <tbody>\n",
       "    <tr>\n",
       "      <td>1995</td>\n",
       "      <td>astrella carpenter (earth-616)</td>\n",
       "      <td>not-available</td>\n",
       "      <td>not-available</td>\n",
       "      <td>not-available</td>\n",
       "      <td>blond hair</td>\n",
       "      <td>female characters</td>\n",
       "      <td>living characters</td>\n",
       "      <td>8.0</td>\n",
       "      <td>1972-08-01 00:00:00</td>\n",
       "    </tr>\n",
       "    <tr>\n",
       "      <td>1996</td>\n",
       "      <td>clayton wojciehowicz (earth-616)</td>\n",
       "      <td>public identity</td>\n",
       "      <td>bad characters</td>\n",
       "      <td>black eyes</td>\n",
       "      <td>bald</td>\n",
       "      <td>male characters</td>\n",
       "      <td>deceased characters</td>\n",
       "      <td>3.0</td>\n",
       "      <td>2008-05-01 00:00:00</td>\n",
       "    </tr>\n",
       "    <tr>\n",
       "      <td>1997</td>\n",
       "      <td>benny elton (earth-616)</td>\n",
       "      <td>no dual identity</td>\n",
       "      <td>neutral characters</td>\n",
       "      <td>not-available</td>\n",
       "      <td>brown hair</td>\n",
       "      <td>male characters</td>\n",
       "      <td>living characters</td>\n",
       "      <td>1.0</td>\n",
       "      <td>1947-05-01 00:00:00</td>\n",
       "    </tr>\n",
       "    <tr>\n",
       "      <td>1998</td>\n",
       "      <td>basilisk (demon) (earth-616)</td>\n",
       "      <td>not-available</td>\n",
       "      <td>bad characters</td>\n",
       "      <td>red eyes</td>\n",
       "      <td>not-available</td>\n",
       "      <td>male characters</td>\n",
       "      <td>living characters</td>\n",
       "      <td>4.0</td>\n",
       "      <td>1976-06-01 00:00:00</td>\n",
       "    </tr>\n",
       "    <tr>\n",
       "      <td>1999</td>\n",
       "      <td>omega white (earth-616)</td>\n",
       "      <td>secret identity</td>\n",
       "      <td>bad characters</td>\n",
       "      <td>white eyes</td>\n",
       "      <td>no hair</td>\n",
       "      <td>male characters</td>\n",
       "      <td>living characters</td>\n",
       "      <td>6.0</td>\n",
       "      <td>2012-07-01 00:00:00</td>\n",
       "    </tr>\n",
       "  </tbody>\n",
       "</table>\n",
       "</div>"
      ],
      "text/plain": [
       "                                  name                id               align  \\\n",
       "1995    astrella carpenter (earth-616)     not-available       not-available   \n",
       "1996  clayton wojciehowicz (earth-616)   public identity      bad characters   \n",
       "1997           benny elton (earth-616)  no dual identity  neutral characters   \n",
       "1998      basilisk (demon) (earth-616)     not-available      bad characters   \n",
       "1999           omega white (earth-616)   secret identity      bad characters   \n",
       "\n",
       "                eye           hair                sex                alive  \\\n",
       "1995  not-available     blond hair  female characters    living characters   \n",
       "1996     black eyes           bald    male characters  deceased characters   \n",
       "1997  not-available     brown hair    male characters    living characters   \n",
       "1998       red eyes  not-available    male characters    living characters   \n",
       "1999     white eyes        no hair    male characters    living characters   \n",
       "\n",
       "      appearances             timeline  \n",
       "1995          8.0  1972-08-01 00:00:00  \n",
       "1996          3.0  2008-05-01 00:00:00  \n",
       "1997          1.0  1947-05-01 00:00:00  \n",
       "1998          4.0  1976-06-01 00:00:00  \n",
       "1999          6.0  2012-07-01 00:00:00  "
      ]
     },
     "execution_count": 10,
     "metadata": {},
     "output_type": "execute_result"
    }
   ],
   "source": [
    "cleaned_df.head()\n",
    "cleaned_df.tail()"
   ]
  },
  {
   "cell_type": "markdown",
   "metadata": {},
   "source": [
    "## &nbsp;&nbsp;&nbsp;&nbsp;&nbsp;&nbsp;&nbsp;&nbsp;&nbsp;&nbsp;&nbsp;&nbsp;&nbsp;&nbsp;&nbsp;&nbsp;&nbsp;&nbsp;&nbsp;&nbsp;&nbsp;&nbsp;&nbsp;&nbsp;&nbsp;&nbsp;&nbsp;&nbsp;&nbsp;&nbsp;&nbsp;&nbsp;&nbsp;&nbsp;&nbsp;&nbsp;&nbsp;&nbsp;&nbsp;&nbsp;&nbsp;&nbsp;&nbsp;&nbsp;&nbsp;&nbsp;Data Analysis"
   ]
  },
  {
   "cell_type": "markdown",
   "metadata": {},
   "source": [
    "### Question 1\n",
    "Golden Age of Comic books was\n",
    "a time when comic books rapidly\n",
    "increased in popularity. The\n",
    "concept of superheroes were\n",
    "created and many well known\n",
    "characters were introduced. How\n",
    "many comic characters in your\n",
    "dataset made their first\n",
    "appearance during the Golden Age ?"
   ]
  },
  {
   "cell_type": "code",
   "execution_count": 11,
   "metadata": {},
   "outputs": [
    {
     "data": {
      "text/plain": [
       "265"
      ]
     },
     "execution_count": 11,
     "metadata": {},
     "output_type": "execute_result"
    }
   ],
   "source": [
    "cleaned_df[((cleaned_df['timeline']>='1938-01-01') & (cleaned_df['timeline']<'1957-01-01'))].shape[0]"
   ]
  },
  {
   "cell_type": "code",
   "execution_count": 12,
   "metadata": {},
   "outputs": [
    {
     "data": {
      "image/png": "[encoded data removed]",
      "text/plain": [
       "<Figure size 720x720 with 1 Axes>"
      ]
     },
     "metadata": {},
     "output_type": "display_data"
    }
   ],
   "source": [
    "golden_year = cleaned_df[((cleaned_df['timeline']>='1938-01-01') & (cleaned_df['timeline']<'1957-01-01'))]\n",
    "plt.figure(figsize=(10,10))\n",
    "plt.pie(golden_year['alive'].value_counts(),labels=['Living','Deceased'], autopct='%1.1f%%',startangle=90)\n",
    "plt.legend()\n",
    "plt.title('Golden Age Characters');"
   ]
  },
  {
   "cell_type": "markdown",
   "metadata": {},
   "source": [
    "### Question 2\n",
    "Silver Age of Comic books saw\n",
    "advancements in artistic ability. The\n",
    "Silver Age characters were Flawed\n",
    "and Self Doubting. Under the aegis\n",
    "of Stan-Lee Marvel et al, started\n",
    "gaining prominence. This age was\n",
    "also inspired by Science Fiction and\n",
    "explained the super hero\n",
    "phenomenon through science. How\n",
    "many public identity characters\n",
    "made their first appearance during\n",
    "this age from this dataset ?"
   ]
  },
  {
   "cell_type": "code",
   "execution_count": 13,
   "metadata": {},
   "outputs": [
    {
     "data": {
      "text/plain": [
       "63"
      ]
     },
     "execution_count": 13,
     "metadata": {},
     "output_type": "execute_result"
    }
   ],
   "source": [
    "cleaned_df[((cleaned_df['timeline']>='1956-01-01') & (cleaned_df['timeline']<'1971-01-01'))]['id'].str.contains('public identity').sum()"
   ]
  },
  {
   "cell_type": "markdown",
   "metadata": {},
   "source": [
    "### Question 3\n",
    "Blue-eyed boy is someone who\n",
    "is very well liked and treated .\n",
    "How many blue-eyed boys did\n",
    "marvel create , get them from\n",
    "your data ?"
   ]
  },
  {
   "cell_type": "code",
   "execution_count": 14,
   "metadata": {},
   "outputs": [
    {
     "data": {
      "text/plain": [
       "176"
      ]
     },
     "execution_count": 14,
     "metadata": {},
     "output_type": "execute_result"
    }
   ],
   "source": [
    "((cleaned_df['eye']=='blue eyes') & (cleaned_df['sex']=='male characters')).sum()"
   ]
  },
  {
   "cell_type": "markdown",
   "metadata": {},
   "source": [
    "### Question 4\n",
    "In the super hero mythology ,\n",
    "there are super heroes and their\n",
    "alter-egos. Spider Man is Peter\n",
    "Parker . Some of them have\n",
    "public identity whereas some still\n",
    "maintain their secret identity .\n",
    "How many of the good living\n",
    "characters in this dataset can you\n",
    "identify that are still maintaining\n",
    "their secret identity ?"
   ]
  },
  {
   "cell_type": "code",
   "execution_count": 15,
   "metadata": {},
   "outputs": [
    {
     "data": {
      "text/plain": [
       "155"
      ]
     },
     "execution_count": 15,
     "metadata": {},
     "output_type": "execute_result"
    }
   ],
   "source": [
    "((cleaned_df['id']=='secret identity') & (cleaned_df['align']=='good characters') & (cleaned_df['alive']=='living characters')).sum()"
   ]
  },
  {
   "cell_type": "markdown",
   "metadata": {},
   "source": [
    "### Question 5\n",
    "In the movie Unbreakable , Elijah\n",
    "Price is born with a disease where\n",
    "his bones are extremely fragile and\n",
    "prone to fracture. He grows up\n",
    "becoming a comic-book art dealer\n",
    "and develops a theory based on\n",
    "comics that if he represents\n",
    "someone who is extremely fragile ,\n",
    "someone unbreakable should also\n",
    "exist. Coming to our scenario , if\n",
    "someone is a good character , there\n",
    "should be some bad character to\n",
    "oppose. What is the gap between\n",
    "the number of good and bad\n",
    "characters in this dataset ?"
   ]
  },
  {
   "cell_type": "code",
   "execution_count": 16,
   "metadata": {},
   "outputs": [
    {
     "data": {
      "text/plain": [
       "302"
      ]
     },
     "execution_count": 16,
     "metadata": {},
     "output_type": "execute_result"
    }
   ],
   "source": [
    "((cleaned_df['align']=='bad characters').sum()) - ((cleaned_df['align']=='good characters').sum())"
   ]
  },
  {
   "cell_type": "markdown",
   "metadata": {},
   "source": [
    "### Question 6\n",
    "Halloween is a celebration\n",
    "celebrated in United States and\n",
    "Canada when children wear\n",
    "costumes of comic characters\n",
    "and go to people's home saying\n",
    "Trick or Treat. How many\n",
    "characters in this dataset share\n",
    "their first appearance with the\n",
    "month of Halloween ?"
   ]
  },
  {
   "cell_type": "code",
   "execution_count": 17,
   "metadata": {},
   "outputs": [
    {
     "data": {
      "text/plain": [
       "174"
      ]
     },
     "execution_count": 17,
     "metadata": {},
     "output_type": "execute_result"
    }
   ],
   "source": [
    "(cleaned_df['timeline'].str.contains('-10-')).sum()"
   ]
  },
  {
   "cell_type": "markdown",
   "metadata": {},
   "source": [
    "### Question 7\n",
    "Median , also termed as Middle\n",
    "Value separates any dataset into\n",
    "two equal halves. What is the\n",
    "median appearance value of all\n",
    "the alive bad characters in this\n",
    "dataset ?"
   ]
  },
  {
   "cell_type": "code",
   "execution_count": 18,
   "metadata": {},
   "outputs": [
    {
     "data": {
      "text/plain": [
       "appearances    3.0\n",
       "dtype: float64"
      ]
     },
     "execution_count": 18,
     "metadata": {},
     "output_type": "execute_result"
    }
   ],
   "source": [
    "median_value = cleaned_df[((cleaned_df['align']=='bad characters') & (cleaned_df['alive']=='living characters'))]\n",
    "median_value.median(axis=0)"
   ]
  },
  {
   "cell_type": "markdown",
   "metadata": {},
   "source": [
    "### Question 8\n",
    "Coming to the identity of the\n",
    "comic characters. From the data ,\n",
    "are more men clandestine than\n",
    "women in this dataset ?"
   ]
  },
  {
   "cell_type": "code",
   "execution_count": 19,
   "metadata": {},
   "outputs": [
    {
     "data": {
      "text/plain": [
       "True"
      ]
     },
     "execution_count": 19,
     "metadata": {},
     "output_type": "execute_result"
    }
   ],
   "source": [
    "((cleaned_df['id']=='secret identity') & (cleaned_df['sex']=='male characters')).sum() > ((cleaned_df['id']=='secret identity') & (cleaned_df['sex']=='female characters')).sum()"
   ]
  },
  {
   "cell_type": "markdown",
   "metadata": {},
   "source": [
    "### Question 9\n",
    "Earth-616 is the primary\n",
    "continuity in which most Marvel\n",
    "Comics titles take place but there\n",
    "are exceptions and outliers in any\n",
    "data. How many characters in the\n",
    "dataset do not belong to this\n",
    "continuity ?"
   ]
  },
  {
   "cell_type": "code",
   "execution_count": 20,
   "metadata": {
    "scrolled": true
   },
   "outputs": [
    {
     "name": "stderr",
     "output_type": "stream",
     "text": [
      "/Users/alok/anaconda3/lib/python3.7/site-packages/pandas/core/strings.py:1843: UserWarning: This pattern has match groups. To actually get the groups, use str.extract.\n",
      "  return func(self, *args, **kwargs)\n"
     ]
    },
    {
     "data": {
      "text/plain": [
       "6"
      ]
     },
     "execution_count": 20,
     "metadata": {},
     "output_type": "execute_result"
    }
   ],
   "source": [
    "cleaned_df.shape[0] - (cleaned_df['name'].str.contains('(earth-616)')).sum()"
   ]
  }
 ],
 "metadata": {
  "kernelspec": {
   "display_name": "Python 3",
   "language": "python",
   "name": "python3"
  },
  "language_info": {
   "codemirror_mode": {
    "name": "ipython",
    "version": 3
   },
   "file_extension": ".py",
   "mimetype": "text/x-python",
   "name": "python",
   "nbconvert_exporter": "python",
   "pygments_lexer": "ipython3",
   "version": "3.7.4"
  }
 },
 "nbformat": 4,
 "nbformat_minor": 2
}
